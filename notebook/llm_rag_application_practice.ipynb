{
 "cells": [
  {
   "metadata": {
    "ExecuteTime": {
     "end_time": "2025-05-05T13:33:47.336351Z",
     "start_time": "2025-05-05T13:33:47.333608Z"
    }
   },
   "cell_type": "code",
   "source": [
    "from libs.util.secret import PINECONE_API_KEY, ANTHROPIC_API_KEY\n",
    "\n",
    "API_KEY = ANTHROPIC_API_KEY"
   ],
   "id": "9c0097851c2f883e",
   "outputs": [],
   "execution_count": 3
  },
  {
   "metadata": {},
   "cell_type": "markdown",
   "source": "# 주어진 텍스트를 임베딩 모델을 활용하여 벡터로 변환",
   "id": "4fe1a753c99ae0ba"
  },
  {
   "cell_type": "code",
   "id": "initial_id",
   "metadata": {
    "collapsed": true,
    "jupyter": {
     "outputs_hidden": true
    },
    "ExecuteTime": {
     "end_time": "2025-05-05T13:45:50.479069Z",
     "start_time": "2025-05-05T13:45:49.672349Z"
    }
   },
   "source": [
    "from pinecone import Pinecone\n",
    "\n",
    "# Pinecone 클라이언트 초기화\n",
    "pc = Pinecone(api_key=PINECONE_API_KEY)\n",
    "\n",
    "# 데이터 정의\n",
    "data = [\n",
    "    {\"id\": \"vec1\", \"text\": \"자동차 보험 청구를 위해서는 사고 발생 보고서, 차량 수리 견적서, 보험 증서 사본이 필요하다.\"},\n",
    "    {\"id\": \"vec2\", \"text\": \"건강 보험 청구를 위해서는 병원 진단서, 치료비 영수증, 보험 증서 사본이 필요하다.\"},\n",
    "    {\"id\": \"vec3\", \"text\": \"화재 보험 청구를 위해서는 화재 감식 보고서, 피해 내역서, 보험 증서 사본이 필요하다.\"},\n",
    "]\n",
    "\n",
    "# 텍스트 데이터를 Pinecone이 색인할 수 있는 형태의 벡터로 변환\n",
    "embeddings = pc.inference.embed(\n",
    "    model=\"multilingual-e5-large\",\n",
    "    inputs=[d['text'] for d in data],\n",
    "    parameters={\n",
    "        # 모델에게 입력 텍스트가 어떤 형태인지 알려주는 것\n",
    "        # \"query\": 검색 질의\n",
    "        # \"passage\": 문서의 본문처럼 긴 문단 또는 설명형 텍스트\n",
    "        \"input_type\": \"passage\",\n",
    "\n",
    "        # 입력 길이가 모델의 최대 토큰 수를 초과할 경우, 어떤 식으로 잘라낼지를 결정\n",
    "        # \"START\": 앞부분을 잘라낸다. (뒤쪽 보존)\n",
    "        # \"END\": 뒷부분을 잘라낸다. (앞쪽 보존)\n",
    "        \"truncate\": \"END\",\n",
    "    },\n",
    ")\n",
    "\n",
    "print(embeddings)\n",
    "print(f'dimension: {len(embeddings.data[0][\"values\"])}')"
   ],
   "outputs": [
    {
     "name": "stdout",
     "output_type": "stream",
     "text": [
      "EmbeddingsList(\n",
      "  model='multilingual-e5-large',\n",
      "  vector_type='dense',\n",
      "  data=[\n",
      "    {'vector_type': dense, 'values': [-0.0033245086669921875, -0.042236328125, ..., -0.04840087890625, -0.007171630859375]},\n",
      "    {'vector_type': dense, 'values': [0.0158233642578125, -0.040771484375, ..., -0.039337158203125, -0.0187225341796875]},\n",
      "    {'vector_type': dense, 'values': [-0.01415252685546875, -0.0187225341796875, ..., -0.030853271484375, 0.00612640380859375]}\n",
      "  ],\n",
      "  usage={'total_tokens': 89}\n",
      ")\n",
      "dimension: 1024\n"
     ]
    }
   ],
   "execution_count": 11
  },
  {
   "metadata": {},
   "cell_type": "markdown",
   "source": "# 벡터를 저장할 인덱스 생성",
   "id": "ee021757e60cf9b9"
  },
  {
   "metadata": {
    "ExecuteTime": {
     "end_time": "2025-05-05T13:40:45.912705Z",
     "start_time": "2025-05-05T13:38:44.578451Z"
    }
   },
   "cell_type": "code",
   "source": [
    "from pinecone import ServerlessSpec\n",
    "\n",
    "# 인덱스 생성\n",
    "index_name = \"example-index\"\n",
    "\n",
    "if not pc.has_index(index_name):\n",
    "    pc.create_index(\n",
    "        name=index_name,\n",
    "        # 임베딩 차원\n",
    "        # 앞에서 사용한 임베딩 모델(multilingual-e5-large)의 출력 벡터 크기와 정확히 일치해야 한다.\n",
    "        dimension=1024,\n",
    "        spec=ServerlessSpec(\n",
    "            cloud='aws',\n",
    "            region='us-east-1'\n",
    "        ),\n",
    "    )"
   ],
   "id": "2bbf3dbfa5209536",
   "outputs": [],
   "execution_count": 7
  },
  {
   "metadata": {},
   "cell_type": "markdown",
   "source": "# 벡터를 인덱스에 저장",
   "id": "69c5baf2f16c1c9f"
  },
  {
   "metadata": {
    "ExecuteTime": {
     "end_time": "2025-05-05T13:49:13.760603Z",
     "start_time": "2025-05-05T13:49:11.658447Z"
    }
   },
   "cell_type": "code",
   "source": [
    "# 벡터를 저장할 인덱스 가져오기\n",
    "index = pc.Index(\"example-index\")\n",
    "\n",
    "# 인덱스에 저장하기위해 records 생성\n",
    "# id: 필수 값, values: 임베딩 벡터, metadata: 텍스트\n",
    "records = []\n",
    "for d, e in zip(data, embeddings):\n",
    "    records.append({\n",
    "        \"id\": d['id'],\n",
    "        \"values\": e['values'],\n",
    "        # 메타데이터에 원본 텍스트 값을 함께 저장하는것이 일반적\n",
    "        \"metadata\": {'text': d['text']}\n",
    "    })\n",
    "\n",
    "# records를 index에 저장하기\n",
    "index.upsert(\n",
    "    vectors=records,\n",
    "    namespace=\"example-namespace\"\n",
    ")"
   ],
   "id": "1facb05e87fe35d7",
   "outputs": [
    {
     "data": {
      "text/plain": [
       "{'upserted_count': 3}"
      ]
     },
     "execution_count": 12,
     "metadata": {},
     "output_type": "execute_result"
    }
   ],
   "execution_count": 12
  },
  {
   "metadata": {},
   "cell_type": "markdown",
   "source": "# 입력 쿼리 벡터화",
   "id": "95efb347b6f5195c"
  },
  {
   "metadata": {
    "ExecuteTime": {
     "end_time": "2025-05-05T13:53:23.083807Z",
     "start_time": "2025-05-05T13:53:22.618841Z"
    }
   },
   "cell_type": "code",
   "source": [
    "query = \"자동차 보험 청구에 필요한 서류가 뭐야?\"\n",
    "\n",
    "x = pc.inference.embed(\n",
    "    model=\"multilingual-e5-large\",\n",
    "    inputs=[query],\n",
    "    parameters={\n",
    "        \"input_type\": \"query\"\n",
    "    },\n",
    ")\n",
    "\n",
    "print(x)"
   ],
   "id": "5a3f1a40ebf33b7b",
   "outputs": [
    {
     "name": "stdout",
     "output_type": "stream",
     "text": [
      "EmbeddingsList(\n",
      "  model='multilingual-e5-large',\n",
      "  vector_type='dense',\n",
      "  data=[\n",
      "    {'vector_type': dense, 'values': [-0.0186309814453125, -0.01238250732421875, ..., -0.05035400390625, -0.0080413818359375]}\n",
      "  ],\n",
      "  usage={'total_tokens': 17}\n",
      ")\n"
     ]
    }
   ],
   "execution_count": 13
  },
  {
   "metadata": {},
   "cell_type": "markdown",
   "source": [
    "# 유사도가 높은 문서 검색\n",
    "- 빠른 검색(Recall)\n",
    "- 쿼리를 벡터로 변환후 벡터 유사도로 검색 (1차 검색 단계)\n",
    "- 검색 속도 빠름, 정확도 비교적 낮음\n",
    "- 쿼리 문서를 개별적으로 임베딩 (Bi-Encoder)"
   ],
   "id": "9ced7f228e2990b7"
  },
  {
   "metadata": {
    "ExecuteTime": {
     "end_time": "2025-05-05T13:54:48.055686Z",
     "start_time": "2025-05-05T13:54:47.054522Z"
    }
   },
   "cell_type": "code",
   "source": [
    "# 인덱스 가져오기\n",
    "index = pc.Index(\"example-index\")\n",
    "\n",
    "# 유사 문서 검색\n",
    "results = index.query(\n",
    "    namespace=\"example-namespace\",\n",
    "    vector=x[0].values, # 입력 쿼리가 변환된 벡터\n",
    "    top_k=3, # 유사도 점수 기준으로 상위 3개 검색\n",
    "    include_values=False, # 응답에 벡터 값을 포함하지 않는다\n",
    "    include_metadata=True # 응답에 메타 데이터를 포함한다\n",
    ")\n",
    "\n",
    "# 검색 문서 출력\n",
    "print(results)"
   ],
   "id": "1fa1789f1d384eaa",
   "outputs": [
    {
     "name": "stdout",
     "output_type": "stream",
     "text": [
      "{'matches': [{'id': 'vec1',\n",
      "              'metadata': {'text': '자동차 보험 청구를 위해서는 사고 발생 보고서, 차량 수리 견적서, 보험 '\n",
      "                                   '증서 사본이 필요하다.'},\n",
      "              'score': 0.901361167,\n",
      "              'values': []},\n",
      "             {'id': 'vec2',\n",
      "              'metadata': {'text': '건강 보험 청구를 위해서는 병원 진단서, 치료비 영수증, 보험 증서 사본이 '\n",
      "                                   '필요하다.'},\n",
      "              'score': 0.864458621,\n",
      "              'values': []},\n",
      "             {'id': 'vec3',\n",
      "              'metadata': {'text': '화재 보험 청구를 위해서는 화재 감식 보고서, 피해 내역서, 보험 증서 '\n",
      "                                   '사본이 필요하다.'},\n",
      "              'score': 0.856482446,\n",
      "              'values': []}],\n",
      " 'namespace': 'example-namespace',\n",
      " 'usage': {'read_units': 6}}\n"
     ]
    }
   ],
   "execution_count": 14
  },
  {
   "metadata": {},
   "cell_type": "markdown",
   "source": [
    "# 유사도 높은 문서 검색 이후 문서 재정렬 (Re-ranking)\n",
    "- 검색 결과의 정밀도 향상 (Precision)\n",
    "- 검색된 문서를 다시 비교해 정렬 (2차 필터링)\n",
    "- 검색 속도 느림, 정확도 비교적 높음\n",
    "- 쿼리와 문서를 함께 입력 (Cross-Encoder)"
   ],
   "id": "6ae7b81f48f2e680"
  },
  {
   "metadata": {
    "ExecuteTime": {
     "end_time": "2025-05-05T14:07:45.425311Z",
     "start_time": "2025-05-05T14:07:44.922996Z"
    }
   },
   "cell_type": "code",
   "source": [
    "result = pc.inference.rerank(\n",
    "    model=\"bge-reranker-v2-m3\",\n",
    "    query=query,\n",
    "    documents=[{\"id\": match[\"id\"], \"text\": match[\"metadata\"][\"text\"]} for match in results[\"matches\"]],\n",
    "    top_n=3,\n",
    "    return_documents=True,\n",
    "    parameters={\n",
    "        \"truncate\": \"END\"\n",
    "    }\n",
    ")\n",
    "\n",
    "# 임베딩 모델에서는 문서간 점수 차이가 크지 않았지만,\n",
    "# 재순위화 모델에서는 높은 문서의 점수만 크다.\n",
    "print(result)"
   ],
   "id": "b8571a19853a8299",
   "outputs": [
    {
     "name": "stdout",
     "output_type": "stream",
     "text": [
      "RerankResult(\n",
      "  model='bge-reranker-v2-m3',\n",
      "  data=[{\n",
      "    index=0,\n",
      "    score=0.9982248,\n",
      "    document={\n",
      "        id='vec1',\n",
      "        text='자동차 보험 청구를 위해서는 사고 발생 보고서, 차량 수리 견적서, 보험 증서 사본이 필요하다.'\n",
      "    }\n",
      "  },{\n",
      "    index=2,\n",
      "    score=0.16899405,\n",
      "    document={\n",
      "        id='vec3',\n",
      "        text='화재 보험 청구를 위해서는 화재 감식 보고서, 피해 내역서, 보험 증서 사본이 필요하다.'\n",
      "    }\n",
      "  },{\n",
      "    index=1,\n",
      "    score=0.15947905,\n",
      "    document={\n",
      "        id='vec2',\n",
      "        text='건강 보험 청구를 위해서는 병원 진단서, 치료비 영수증, 보험 증서 사본이 필요하다.'\n",
      "    }\n",
      "  }],\n",
      "  usage={'rerank_units': 1}\n",
      ")\n"
     ]
    }
   ],
   "execution_count": 15
  },
  {
   "metadata": {},
   "cell_type": "markdown",
   "source": "---",
   "id": "5a1ee08350e088f3"
  },
  {
   "metadata": {},
   "cell_type": "markdown",
   "source": "# RecursiveCharacterTextSplitter를 이용한 문자 기반 청킹 예시",
   "id": "60cfb33cc0ee3e57"
  },
  {
   "metadata": {
    "ExecuteTime": {
     "end_time": "2025-05-05T14:38:48.314244Z",
     "start_time": "2025-05-05T14:38:48.072737Z"
    }
   },
   "cell_type": "code",
   "source": [
    "from langchain.text_splitter import RecursiveCharacterTextSplitter\n",
    "\n",
    "sample_text = \"\"\"자동차 보험 청구를 위해서는 사고 발생 보고서, 차량 수리 견적서, 보험증서 사본이 필요하다.\n",
    "건강 보험 청구를 위해서는 병원 진단서, 치료비 영수증, 보험 증서 사본이 필요하다.\n",
    "화재 보험 청구를 위해서는 화재 감식 보고서, 피해 내역서, 보험 증서 사본이 필요하다.\"\"\"\n",
    "\n",
    "\n",
    "overlap_splitter = RecursiveCharacterTextSplitter(\n",
    "    chunk_size=30, # 청크 크기\n",
    "    chunk_overlap=10,  # 오버랩 설정\n",
    "    length_function=len # 분할 기준 길이 측정 함수 (len=문자열 길이)\n",
    ")\n",
    "overlap_chunks = overlap_splitter.split_text(sample_text)\n",
    "\n",
    "print(len(overlap_chunks))\n",
    "print(overlap_chunks)"
   ],
   "id": "4ebedcb388eee4f0",
   "outputs": [
    {
     "name": "stdout",
     "output_type": "stream",
     "text": [
      "7\n",
      "['자동차 보험 청구를 위해서는 사고 발생 보고서, 차량', '보고서, 차량 수리 견적서, 보험증서 사본이', '보험증서 사본이 필요하다.', '건강 보험 청구를 위해서는 병원 진단서, 치료비', '진단서, 치료비 영수증, 보험 증서 사본이 필요하다.', '화재 보험 청구를 위해서는 화재 감식 보고서, 피해', '보고서, 피해 내역서, 보험 증서 사본이 필요하다.']\n"
     ]
    }
   ],
   "execution_count": 16
  },
  {
   "metadata": {},
   "cell_type": "markdown",
   "source": "# MarkdownHeaderTextSplitter를 이용한 마크다운 문서 청킹 예시",
   "id": "6accde7b4eb745f3"
  },
  {
   "metadata": {
    "ExecuteTime": {
     "end_time": "2025-05-05T14:39:19.728708Z",
     "start_time": "2025-05-05T14:39:19.719098Z"
    }
   },
   "cell_type": "code",
   "source": [
    "from langchain.text_splitter import MarkdownHeaderTextSplitter\n",
    "\n",
    "sample_text = \"\"\"\n",
    "# 제목\n",
    "\n",
    "이것은 문서의 소개 섹션입니다. 문서의 개요를 제공합니다.\n",
    "\n",
    "## 섹션 1\n",
    "\n",
    "이 섹션에서는 첫 번째 주제를 다룹니다. 관련된 세부 정보가 포함되어 있습니다.\n",
    "\n",
    "## 섹션 2\n",
    "\n",
    "이 섹션에서는 두 번째 주제를 논의합니다. 여기에서 더 많은 세부 사항이 설명됩니다.\n",
    "\"\"\"\n",
    "\n",
    "md_splitter = MarkdownHeaderTextSplitter(\n",
    "    # 문서를 분할할 헤더 레벨과 해당 레벨의 이름 정의\n",
    "    headers_to_split_on=[(\"#\", \"Header 1\"), (\"##\", \"Header 2\")]\n",
    ")\n",
    "md_chunks = md_splitter.split_text(sample_text)\n",
    "\n",
    "print(len(md_chunks))\n",
    "print(md_chunks)"
   ],
   "id": "9a997a3313401750",
   "outputs": [
    {
     "name": "stdout",
     "output_type": "stream",
     "text": [
      "3\n",
      "[Document(metadata={'Header 1': '제목'}, page_content='이것은 문서의 소개 섹션입니다. 문서의 개요를 제공합니다.'), Document(metadata={'Header 1': '제목', 'Header 2': '섹션 1'}, page_content='이 섹션에서는 첫 번째 주제를 다룹니다. 관련된 세부 정보가 포함되어 있습니다.'), Document(metadata={'Header 1': '제목', 'Header 2': '섹션 2'}, page_content='이 섹션에서는 두 번째 주제를 논의합니다. 여기에서 더 많은 세부 사항이 설명됩니다.')]\n"
     ]
    }
   ],
   "execution_count": 17
  },
  {
   "metadata": {},
   "cell_type": "markdown",
   "source": "# 의미 기반 커스텀 문서 청킹 로직 구현",
   "id": "43ceeed0809f5f52"
  },
  {
   "metadata": {
    "ExecuteTime": {
     "end_time": "2025-05-05T14:45:25.729430Z",
     "start_time": "2025-05-05T14:45:23.978173Z"
    }
   },
   "cell_type": "code",
   "source": [
    "sample_text = \"\"\"자동차 보험 청구를 위해서는 사고 발생 보고서, 차량 수리 견적서, 보험증서 사본이 필요하다.\n",
    "사고 발생 보고서는 사고의 경위와 책임 여부를 확인하는 중요한 자료다.\n",
    "차량 수리 견적서는 수리 비용을 산정하는 근거가 되며, 보험증서 사본은 가입한 보험 상품의 보장 범위를 확인하는 데 사용된다.\n",
    "화재 보험 청구를 위해서는 화재 감식 보고서, 피해 내역서, 보험 증서 사본이 필요하다.\n",
    "화재 감식 보고서는 화재의 원인과 피해 규모를 분석한 공식 문서다.\n",
    "피해 내역서는 손실된 재산의 종류와 피해 금액을 구체적으로 정리한 자료이며, 보험 증서 사본은 보장 범위와 보상 한도를 확인하는 데 사용된다.\"\"\"\n",
    "\n",
    "# 1. 문장을 줄바꿈(\"\\n\")을 기준으로 분리하여 리스트로 저장\n",
    "sentences = sample_text.split(\"\\n\")\n",
    "\n",
    "# 2. 유사한 문장을 합치기 위한 빈 리스트 생성\n",
    "chunks = []\n",
    "\n",
    "# 3. 첫 번째 문장을 기준으로 설정\n",
    "before_sentence = sentences[0]\n",
    "\n",
    "# 4. 나머지 문장들과 비교하여 유사도를 평가\n",
    "for sentence in sentences[1:]:\n",
    "    # Reranker 모델을 사용하여 두 문장의 유사도 점수 계산\n",
    "    result = pc.inference.rerank(\n",
    "        model=\"bge-reranker-v2-m3\",\n",
    "        query=before_sentence,  # 기준 문장\n",
    "        documents=[{\"id\": \"1\", \"text\": sentence}],  # 비교할 문장\n",
    "        top_n=1,\n",
    "        parameters={\"truncate\": \"END\"}  # 긴 문장일 경우 뒤쪽을 자름\n",
    "    )\n",
    "\n",
    "    # 계산된 유사도 점수 가져오기\n",
    "    score = result.data[0].score\n",
    "\n",
    "    # 5. 유사도 점수가 0.9 이상이면 문장을 결합\n",
    "    if score >= 0.9:\n",
    "        before_sentence = \"\\n\".join([before_sentence, sentence])\n",
    "    else:\n",
    "        # 현재까지 합쳐진 문장을 chunks 리스트에 저장\n",
    "        chunks.append(before_sentence)\n",
    "        # 새로운 기준 문장을 설정\n",
    "        before_sentence = sentence\n",
    "\n",
    "# 마지막 기준 문장도 chunks 리스트에 추가\n",
    "chunks.append(before_sentence)\n",
    "\n",
    "# 6. 최종 그룹화된 문장 출력\n",
    "for idx, chunk in enumerate(chunks, 1):\n",
    "    print(f\"\\n[그룹 {idx}]\")\n",
    "    print(chunk)"
   ],
   "id": "d92c07fa2ec0b164",
   "outputs": [
    {
     "name": "stdout",
     "output_type": "stream",
     "text": [
      "\n",
      "[그룹 1]\n",
      "자동차 보험 청구를 위해서는 사고 발생 보고서, 차량 수리 견적서, 보험증서 사본이 필요하다.\n",
      "사고 발생 보고서는 사고의 경위와 책임 여부를 확인하는 중요한 자료다.\n",
      "차량 수리 견적서는 수리 비용을 산정하는 근거가 되며, 보험증서 사본은 가입한 보험 상품의 보장 범위를 확인하는 데 사용된다.\n",
      "\n",
      "[그룹 2]\n",
      "화재 보험 청구를 위해서는 화재 감식 보고서, 피해 내역서, 보험 증서 사본이 필요하다.\n",
      "화재 감식 보고서는 화재의 원인과 피해 규모를 분석한 공식 문서다.\n",
      "피해 내역서는 손실된 재산의 종류와 피해 금액을 구체적으로 정리한 자료이며, 보험 증서 사본은 보장 범위와 보상 한도를 확인하는 데 사용된다.\n"
     ]
    }
   ],
   "execution_count": 21
  },
  {
   "metadata": {},
   "cell_type": "markdown",
   "source": "---",
   "id": "1afc107d2945666c"
  },
  {
   "metadata": {
    "ExecuteTime": {
     "end_time": "2025-05-05T14:47:39.462413Z",
     "start_time": "2025-05-05T14:47:36.817363Z"
    }
   },
   "cell_type": "code",
   "source": "!pip install -q pypdf",
   "id": "d4d5c5537dc7fa04",
   "outputs": [
    {
     "name": "stdout",
     "output_type": "stream",
     "text": [
      "\r\n",
      "\u001B[1m[\u001B[0m\u001B[34;49mnotice\u001B[0m\u001B[1;39;49m]\u001B[0m\u001B[39;49m A new release of pip is available: \u001B[0m\u001B[31;49m23.0.1\u001B[0m\u001B[39;49m -> \u001B[0m\u001B[32;49m25.1.1\u001B[0m\r\n",
      "\u001B[1m[\u001B[0m\u001B[34;49mnotice\u001B[0m\u001B[1;39;49m]\u001B[0m\u001B[39;49m To update, run: \u001B[0m\u001B[32;49mpip install --upgrade pip\u001B[0m\r\n"
     ]
    }
   ],
   "execution_count": 24
  },
  {
   "metadata": {},
   "cell_type": "markdown",
   "source": "# PDF 파일 읽기",
   "id": "9294171cca439bc7"
  },
  {
   "metadata": {
    "ExecuteTime": {
     "end_time": "2025-05-05T14:47:48.432795Z",
     "start_time": "2025-05-05T14:47:47.409716Z"
    }
   },
   "cell_type": "code",
   "source": [
    "from langchain_community.document_loaders import PyPDFLoader\n",
    "\n",
    "# pdf 파일 경로 정의\n",
    "pdf_filepaths = [\n",
    "    '~/PycharmProjects/yuncheol-llmops-demo/dataset/주택화재보험_상품요약서.pdf',\n",
    "    '~/PycharmProjects/yuncheol-llmops-demo/dataset/자동차보험_상품요약서.pdf',\n",
    "    '~/PycharmProjects/yuncheol-llmops-demo/dataset/실손의료비보험_상품요약서.pdf',\n",
    "]\n",
    "\n",
    "# 배열 순회하면서 pdf 파일 경로 읽기\n",
    "documents = []\n",
    "for pdf_filepath in pdf_filepaths:\n",
    "    # PDF 페이지별로 읽기\n",
    "    loader = PyPDFLoader(pdf_filepath)\n",
    "    pages = loader.load()\n",
    "    # 하나의 문서로 합치기\n",
    "    document = \"\".join(page.page_content for page in pages)\n",
    "    documents.append(document)\n",
    "\n",
    "print(len(documents))\n",
    "print(documents[:1])"
   ],
   "id": "117787935195791c",
   "outputs": [
    {
     "name": "stdout",
     "output_type": "stream",
     "text": [
      "3\n",
      "['KB주택화재보험 상품요약서1.가입자격 제한 등 상품의 특이사항가.가입자격 제한주택으로만 쓰이는 건물 중 다음의 것 및 그 수용가재에 대하여 적용합니다.1)단독주택2)주택의 부속건물로서 가재만을 수용하는데 쓰이는 것3)연립(다세대)주택,아파트(주상복합아파트의 주거용도 부분 포함)로서 각 호(실)가 모두 주택으로만 쓰이는 것나.상품의 특이사항1)아파트 ,맨션,연립,빌딩,단독주택 등 전용주택 및 가재도구가 화재,벼락,폭발에 의한 사고로 입은 손해를 보상하는 보험입니다.2)화재위험 외에도 도난,풍수재,전기위험 등 다양한 보장 특약을 위험에 맞게 선택하여 보험에 가입할 수 있습니다.2.보험금 지급사유 및 지급제한사항가.보장의 종류 동 보험의 주요 보장은 아래와 같습니다.선택구분보장내용기본계약KB주택화재보험 보통약관선택계약전기위험 특별약관선택계약풍수재위험 특별약관선택계약지진위험 특별약관선택계약특수건물 풍수재위험 특별약관선택계약특수건물 항공기 및 낙하물위험 특별약관선택계약신체손해배상책임 특별약관(특수건물)선택계약확장위험  특별약관(Ⅰ)선택계약확장위험 특별약관(Ⅱ)선택계약붕괴, 침강 및 사태확장 특별약관선택계약소요, 노동쟁의, 항공기 및 차량위험 특별약관선택계약도난위험 특별약관선택계약급배수설비누출손해 특별약관선택계약스프링클러누출손해 특별약관선택계약유리손해 특별약관나.보험금 지급사유기본계약은 화재,폭발 또는 파열로 아래의 손해를 보상합니다.1.사고에 따른 직접 손해2.사고에 따른 소방 손해(화재진압과정에서 발생하는 손해)3.사고에 따른 피난 손해(피난지에서 5일 동안에 보험의 목적에 생긴 위 제1호 및 제2호의 손해를 포함합니다)※용어의 정의폭발,파열이라 함은 급격한 산화반응을 포함하는 파괴 또는 그 현상을 말합니다.선택계약별 보장 내용은 해당 특별약관을 참고하시기 바랍니다.다.보험금 지급 제한 사항보험계약자나 피보험자 또는 이들의 법정대리인의 고의 또는 중대한 과실 등,이 보험 보통약관,특별약관에서 정한 보상하지 않는 손해에 해당되는 경우에는 회사는 책임을지지 않습니다.자세한 내용은 해당 약관을 참고하시기 바랍니다.라.지급보험금 산정 방식1)보험가입금액이 보험가액의 80%해당액과 같거나 클 때 :보험가입금액을 한도로 손해액 전액.그러나 보험가입금액이 보험가액보다 클 때에는 보험가액을 한도로 합니다.2)보험가입금액이 보험가액의 80%해당액보다 작을 때 :보험가입금액을 한도로 아래의 금액\\n선택계약악의적인 파괴행위 특별약관선택계약폭음파 특별약관선택계약재조달가액 특별약관선택계약가액협정 특별약관선택계약어린이놀이시설배상책임 특별약관선택계약실화(대물)배상책임 특별약관선택계약화재대물배상책임 특별약관(특수건물)선택계약화재배상책임(주택) 특별약관선택계약협정보험가액 특별약관선택계약화재배상책임(주택) 특별약관\\n손해액 × 보험가입금액보험가액의 80% 해당액3.보험료 산출 예시보험목적물 :건물 (가액 :150,000,000원 단독주택)건물구조 :기둥(내화구조),지붕(내화구조),외벽(내화구조),2층(총 100평)보험기간 :1년기본계약 보험료 :19,950원4.보험료 산출기초보험계약자가 납입하는 보험료는 보험사고 발생시 보험금지급을 위한 위험보험료와 보험회사의 사업경비를 위한 부가보험료로 구성됩니다.5.계약자 배당에 관한 사항무배당상품으로서 배당을 하지 않습니다.6.해약환급금에 관한 사항가.해약환급금 산출기준보험계약자가 보험기간중 보험계약을 해지할 경우에는 이 보험의 미경과보험료를 해약환급금으로 지급하여 드립니다.나.미경과보험료 산출기준1)보험계약자의 책임있는 사유로 인한 해지 :기경과기간의 단기요율을 적용하여 계산된 보험료를 기납입보험료에서 뺀 잔액2)그 밖의 해지 :미경과기간에 대하여 일할로 계산된 보험료7.기타 알아두실 사항Q)주택외의 가재도구에 대한 보상여부는?A)보험에 가입하실 때에는 건물뿐만 아니라 가재도구도 가입하여야 보상을 받을 수 있습니다.Q)화재 이외에 풍수재 등 다른 위험에 대한 보장은?A)KB주택화재보험은 기본적으로 화재,폭발,낙뢰위험을 보장합니다.풍수재 등 다른 위험을 추가적으로 보장받기 위해서는 해당 위험에 대하여 보험료를 납부하고 특약을 가입하여 보장 받으실 수 있습니다.본 상품요약서는 상품의 중요내용만을 요약한 것이므로 구체적인 내용은 반드시 약관을 통해서 확인하시기 바랍니다.']\n"
     ]
    }
   ],
   "execution_count": 25
  },
  {
   "metadata": {},
   "cell_type": "markdown",
   "source": "# PDF 문서 청킹",
   "id": "afb6524fff2f8bea"
  },
  {
   "metadata": {
    "ExecuteTime": {
     "end_time": "2025-05-05T14:52:31.933276Z",
     "start_time": "2025-05-05T14:52:31.919292Z"
    }
   },
   "cell_type": "code",
   "source": [
    "from langchain.text_splitter import RecursiveCharacterTextSplitter\n",
    "\n",
    "# 청크 방식 정의\n",
    "text_splitter = RecursiveCharacterTextSplitter(\n",
    "    chunk_size=500,\n",
    "    chunk_overlap=100,\n",
    ")\n",
    "\n",
    "final_chunks = []\n",
    "for index, document in enumerate(documents):\n",
    "    # 문서 청킹\n",
    "    text_chunks = text_splitter.split_text(document)\n",
    "    final_chunks.extend(text_chunks)\n",
    "    # 청크 문서 개수 출력\n",
    "    print(f\"문서 {index} 청크 개수: {len(text_chunks)}\")\n",
    "\n",
    "# 전체 청크 개수 출력\n",
    "print(f\"전체 청크 개수: {len(final_chunks)}\")\n",
    "# 청크 출력\n",
    "print(final_chunks[0])\n",
    "print(final_chunks[1])"
   ],
   "id": "8e1cc3b6c661b82f",
   "outputs": [
    {
     "name": "stdout",
     "output_type": "stream",
     "text": [
      "문서 0 청크 개수: 6\n",
      "문서 1 청크 개수: 35\n",
      "문서 2 청크 개수: 11\n",
      "전체 청크 개수: 52\n",
      "KB주택화재보험 상품요약서1.가입자격 제한 등 상품의 특이사항가.가입자격 제한주택으로만 쓰이는 건물 중 다음의 것 및 그 수용가재에 대하여 적용합니다.1)단독주택2)주택의 부속건물로서 가재만을 수용하는데 쓰이는 것3)연립(다세대)주택,아파트(주상복합아파트의 주거용도 부분 포함)로서 각 호(실)가 모두 주택으로만 쓰이는 것나.상품의 특이사항1)아파트 ,맨션,연립,빌딩,단독주택 등 전용주택 및 가재도구가 화재,벼락,폭발에 의한 사고로 입은 손해를 보상하는 보험입니다.2)화재위험 외에도 도난,풍수재,전기위험 등 다양한 보장 특약을 위험에 맞게 선택하여 보험에 가입할 수 있습니다.2.보험금 지급사유 및 지급제한사항가.보장의 종류 동 보험의 주요 보장은 아래와 같습니다.선택구분보장내용기본계약KB주택화재보험 보통약관선택계약전기위험 특별약관선택계약풍수재위험 특별약관선택계약지진위험 특별약관선택계약특수건물 풍수재위험 특별약관선택계약특수건물 항공기 및 낙하물위험 특별약관선택계약신체손해배상책임\n",
      "특별약관선택계약풍수재위험 특별약관선택계약지진위험 특별약관선택계약특수건물 풍수재위험 특별약관선택계약특수건물 항공기 및 낙하물위험 특별약관선택계약신체손해배상책임 특별약관(특수건물)선택계약확장위험  특별약관(Ⅰ)선택계약확장위험 특별약관(Ⅱ)선택계약붕괴, 침강 및 사태확장 특별약관선택계약소요, 노동쟁의, 항공기 및 차량위험 특별약관선택계약도난위험 특별약관선택계약급배수설비누출손해 특별약관선택계약스프링클러누출손해 특별약관선택계약유리손해 특별약관나.보험금 지급사유기본계약은 화재,폭발 또는 파열로 아래의 손해를 보상합니다.1.사고에 따른 직접 손해2.사고에 따른 소방 손해(화재진압과정에서 발생하는 손해)3.사고에 따른 피난 손해(피난지에서 5일 동안에 보험의 목적에 생긴 위 제1호 및 제2호의 손해를 포함합니다)※용어의 정의폭발,파열이라 함은 급격한 산화반응을 포함하는 파괴 또는 그 현상을 말합니다.선택계약별 보장 내용은 해당 특별약관을 참고하시기 바랍니다.다.보험금 지급 제한 사항보험계약자나\n"
     ]
    }
   ],
   "execution_count": 28
  },
  {
   "metadata": {},
   "cell_type": "markdown",
   "source": "# 청크 임베딩",
   "id": "5f32441e8e459a22"
  },
  {
   "metadata": {
    "ExecuteTime": {
     "end_time": "2025-05-05T14:54:02.329733Z",
     "start_time": "2025-05-05T14:54:00.636142Z"
    }
   },
   "cell_type": "code",
   "source": [
    "from pinecone import Pinecone\n",
    "\n",
    "# Pinecone 클라이언트 초기화\n",
    "pc = Pinecone(api_key=PINECONE_API_KEY)\n",
    "\n",
    "# 텍스트 데이터를 Pinecone이 색인할 수 있는 형태의 벡터로 변환\n",
    "embeddings = pc.inference.embed(\n",
    "    model=\"multilingual-e5-large\",\n",
    "    inputs=final_chunks,\n",
    "    parameters={\"input_type\": \"passage\", \"truncate\": \"END\"}\n",
    ")\n",
    "\n",
    "print(embeddings)"
   ],
   "id": "b847cf7f210eb6fa",
   "outputs": [
    {
     "name": "stdout",
     "output_type": "stream",
     "text": [
      "EmbeddingsList(\n",
      "  model='multilingual-e5-large',\n",
      "  vector_type='dense',\n",
      "  data=[\n",
      "    {'vector_type': dense, 'values': [0.01428985595703125, 0.0012063980102539062, ..., -0.043487548828125, 0.01421356201171875]},\n",
      "    {'vector_type': dense, 'values': [0.00832366943359375, -0.002899169921875, ..., -0.03466796875, 0.0010328292846679688]},\n",
      "    ... (48 more embeddings) ...,\n",
      "    {'vector_type': dense, 'values': [-0.0118408203125, -0.0160064697265625, ..., -0.0246429443359375, -0.01232147216796875]},\n",
      "    {'vector_type': dense, 'values': [0.0155487060546875, 0.00150299072265625, ..., -0.0311126708984375, -0.00859832763671875]}\n",
      "  ],\n",
      "  usage={'total_tokens': 12410}\n",
      ")\n"
     ]
    }
   ],
   "execution_count": 30
  },
  {
   "metadata": {},
   "cell_type": "markdown",
   "source": "# 인덱스 생성",
   "id": "3599c9f552e39495"
  },
  {
   "metadata": {
    "ExecuteTime": {
     "end_time": "2025-05-05T14:55:44.883573Z",
     "start_time": "2025-05-05T14:54:48.914726Z"
    }
   },
   "cell_type": "code",
   "source": [
    "from pinecone import ServerlessSpec\n",
    "\n",
    "# 보험 문서 인덱스 생성\n",
    "index_name = \"insurance\"\n",
    "\n",
    "if not pc.has_index(index_name):\n",
    "    pc.create_index(\n",
    "        name=index_name,\n",
    "        dimension=1024, # 임베딩 차원\n",
    "        spec=ServerlessSpec(\n",
    "            cloud='aws',\n",
    "            region='us-east-1'\n",
    "        )\n",
    "    )"
   ],
   "id": "b215fa9fa5719c13",
   "outputs": [],
   "execution_count": 31
  },
  {
   "metadata": {},
   "cell_type": "markdown",
   "source": "# 문서 저장",
   "id": "3eea18dfa84a5c50"
  },
  {
   "metadata": {
    "ExecuteTime": {
     "end_time": "2025-05-05T14:56:07.411124Z",
     "start_time": "2025-05-05T14:56:04.090705Z"
    }
   },
   "cell_type": "code",
   "source": [
    "# 벡터를 저장할 인덱스 가져오기\n",
    "index = pc.Index(index_name)\n",
    "\n",
    "# 인덱스에 저장하기위해 records 생성\n",
    "# id: 필수 값, values: 임베딩 벡터, metadata: 텍스트\n",
    "records = []\n",
    "for i, (d, e) in enumerate(zip(final_chunks, embeddings.data)):\n",
    "    records.append({\n",
    "        \"id\": str(i),\n",
    "        \"values\": e['values'],\n",
    "        \"metadata\": {'text': d}\n",
    "    })\n",
    "\n",
    "# records를 index에 저장하기\n",
    "index.upsert(\n",
    "    vectors=records,\n",
    "    namespace=\"insurance-namespace\"\n",
    ")"
   ],
   "id": "bd6ab6dfe43638f5",
   "outputs": [
    {
     "data": {
      "text/plain": [
       "{'upserted_count': 52}"
      ]
     },
     "execution_count": 32,
     "metadata": {},
     "output_type": "execute_result"
    }
   ],
   "execution_count": 32
  },
  {
   "metadata": {},
   "cell_type": "markdown",
   "source": "# 후보군 문서 검색",
   "id": "667fe3e9a61f7246"
  },
  {
   "metadata": {
    "ExecuteTime": {
     "end_time": "2025-05-05T14:57:01.302916Z",
     "start_time": "2025-05-05T14:56:59.884119Z"
    }
   },
   "cell_type": "code",
   "source": [
    "index = pc.Index(\"insurance\")\n",
    "\n",
    "query = \"의무보험 가입대상 자동차가 뭐야?\"\n",
    "\n",
    "x = pc.inference.embed(\n",
    "    model=\"multilingual-e5-large\",\n",
    "    inputs=[query],\n",
    "    parameters={\n",
    "        \"input_type\": \"query\"\n",
    "    }\n",
    ")\n",
    "\n",
    "results = index.query(\n",
    "    namespace=\"insurance-namespace\",\n",
    "    vector=x[0].values, # 입력 쿼리의 벡터\n",
    "    top_k=10, # 유사도 점수 기준으로 상위 10개 검색\n",
    "    include_values=False, # 응답에 벡터 값을 포함하지 않는다\n",
    "    include_metadata=True # 응답에 메타 데이터를 포함한다\n",
    ")\n",
    "\n",
    "print(results)"
   ],
   "id": "eb69dfb270ace9ee",
   "outputs": [
    {
     "name": "stdout",
     "output_type": "stream",
     "text": [
      "{'matches': [{'id': '11',\n",
      "              'metadata': {'text': '보험가입금액 초과 손해 :           1사고당 '\n",
      "                                   '5,000만원                        ④ 의무보험 가입대상 '\n",
      "                                   '자동차   ㅇ 자동차관리법 제3조 규정에 의하여 등록된 자동차   ㅇ '\n",
      "                                   '건설기계관리법 제3조 규정에 의하여 등록된 건설기계중 자배법시행령 제2조에 '\n",
      "                                   '정한 '\n",
      "                                   '건설기계＊＊덤프트럭,트럭적재식콘크리트펌프,타이어식기중기,트럭적재식아스팔트살포기,콘크리트믹서트럭,타이어식굴삭기,「건설기계관리법시행령」별표1제26호에따른특수건설기계중트럭지게차,도로보수트럭,노면측정장비(노면측정장치를가진자주식)  '\n",
      "                                   '⑤ 의무보험 미가입시 제재   ㅇ 미가입시 과태료 '\n",
      "                                   '의무보험미가입기간자가용자동차사업용자동차이륜자동차대인Ⅰ대물대인Ⅰ대물대인Ⅰ대물10일이내10,000원5,000원30,000원5,000원6,000원3,000원매1일 '\n",
      "                                   '초과4,000원2,000원8,000원2,000원1,200원600원최고한도60만원30만원100만원30만원20만원10만원        '\n",
      "                                   '＊자배법 시행령 [별표 5]   ㅇ 미가입운행시'},\n",
      "              'score': 0.873087227,\n",
      "              'values': []},\n",
      "             {'id': '8',\n",
      "              'metadata': {'text': '보험금 지급사유, 지급금액 및 지급제한 사항 □ 의무보험 관련사항  ① '\n",
      "                                   '정의    의무보험이란 자동차손해배상보장법(이하 자배법)에 의거 '\n",
      "                                   '자동차보유자가 의무적으로 가입해야 하는 보험으로 자동차보험의 대인배상Ⅰ 및 '\n",
      "                                   '대물배상을 의미합니다.  ② 보상한도구  '\n",
      "                                   '분2005.2.22.~2016.3.31중의 사고2016.4.1.이후의 '\n",
      "                                   '사고대인Ⅰ사망최고 1억원최고 1억 5,000만원부상최고 2,000만원최고 '\n",
      "                                   '3,000만원후유장애최고 1억원최고 1억 5,000만원대 물1,000만원 '\n",
      "                                   '이상2,000만원 이상  ③ 특 징   ㅇ 강제보험성 : 자배법에 근거한 '\n",
      "                                   '강제보험, 자동차보유자에게 보험가입을 강제하는 반면 보험회사에게도 일정한 '\n",
      "                                   '사유가 없는 한 계약인수가 의무화되어 있습니다.   ㅇ 계약의 해지 '\n",
      "                                   '제한(의무보험의 경우는 계약자 임의로 해지할 수 없습니다. 단, 다음의 '\n",
      "                                   '경우에 한해서는 해지가 가능합니다)     - 자동차의 말소등록(이륜차는 '\n",
      "                                   '사용폐지)으로 운행을 중지한 경우     - 피보험자동차를 양도한'},\n",
      "              'score': 0.871543825,\n",
      "              'values': []},\n",
      "             {'id': '7',\n",
      "              'metadata': {'text': '비사업용 자동차 중 개인소유 자동차KB뉴비즈니스자동차보험개인소유 '\n",
      "                                   '자가용승용차를 제외한 모든  비사업용 자동차 중 법인소유 '\n",
      "                                   '자동차영업용君KB영업용자동차보험모든 영업용자동차 및 '\n",
      "                                   '건설기계KB다이렉트영업용자동차보험KB다이렉트(인터넷)영업용자동차보험이륜차君KB이륜자동차보험이륜자동차 '\n",
      "                                   '및 '\n",
      "                                   '원동기장치자전거KB다이렉트이륜자동차보험KB다이렉트(인터넷)이륜자동차보험기타KB운전자보험, '\n",
      "                                   'KB자동차취급업자종합보험 등 □ 자동차보험 공동인수 제도  ① 대상 : '\n",
      "                                   '사고가 발생할 위험이 높거나 또는 기존 가입기간 동안 사고를 여러번 야기하여 '\n",
      "                                   '보험 회사가 인수를 거절한 계약을 대상으로 합니다.  ② 취지 : 인수거절된 '\n",
      "                                   '가입자에게 종합보험 가입의 길을 열어줌으로써 무보험자동차 양산을 방지하고 '\n",
      "                                   '피해자 및 보험가입자 보호를 위한 제도입니다.나. 보험금 지급사유, 지급금액 '\n",
      "                                   '및 지급제한 사항 □ 의무보험 관련사항  ① 정의    의무보험이란 '\n",
      "                                   '자동차손해배상보장법(이하 자배법)에 의거 자동차보유자가 의무적으로 가입해야 '\n",
      "                                   '하는'},\n",
      "              'score': 0.863227069,\n",
      "              'values': []},\n",
      "             {'id': '37',\n",
      "              'metadata': {'text': '대체하는 때에는 대체차량에 보험계약이 승계됨.          2) '\n",
      "                                   '가입대상        업무용자동차보험에 가입하는 모든 관용자동차    3) '\n",
      "                                   '적용요율    자가용 해당 차종의 담보종목별 기본보험료의 50% 적용 '\n",
      "                                   '(대인배상Ⅰ도 포함)▣ 기명피보험자 1인 한정운전 특별약관 (영업용)    '\n",
      "                                   '1) 특약의 요지       피보험자동차를 기명피보험자(개인택시의 경우  '\n",
      "                                   '관계법령에 따라 신고한 대리운전자 포함) 이외의 자가 운전하던 중 사고로 '\n",
      "                                   '인한 손해는 보상하지 아니함.    2) 가입대상       기명피보험자만이 '\n",
      "                                   '운전하는 개인택시 및 개별면허화물자동차    3) 유의사항     이 특약에 '\n",
      "                                   '가입한 계약은 자동차의 양도시 보험계약을 양도할 수 없음에 특히 유의하여야 '\n",
      "                                   '함.▣ 의무보험 일시담보 특약 (개인용·업무용·영업용)    1) 특약의 '\n",
      "                                   '요지       자동차 양도 이후, 양수인인 이전 등록하는 기간인 15일 '\n",
      "                                   '동안(무보험상태) 양도인의 추가보험료 부담 없이 자동 담보되는 특약으로 동 '\n",
      "                                   '기간 중'},\n",
      "              'score': 0.854920745,\n",
      "              'values': []},\n",
      "             {'id': '6',\n",
      "              'metadata': {'text': '< 자동차보험 상품 요약서 > 상품요약서는 상품의 주요 내용만을 요약한 '\n",
      "                                   '자료이므로 구체적인 상품 내용은 반드시 해당 보험상품의 약관을 참조하시길 '\n",
      "                                   '바랍니다가. 가입자격제한 등 상품별 특이사항 □ 자동차보험의 종류 및 '\n",
      "                                   '가입대상 구 분 가입대상개인용君KB개인용개인소유 자가용승용차(법정승차정원 '\n",
      "                                   '10인이하)단, 인가된 자동차학원 또는 자동차학원대표 소유의 자동차로서 '\n",
      "                                   '운전교습도로주행 및 시험에 사용되는 승용차는 '\n",
      "                                   '제외KB다이렉트개인용KB다이렉트(인터넷)개인용KB다이렉트(플랫폼)개인용업무용君KB업무용개인소유 '\n",
      "                                   '자가용승용차를 제외한 모든  비사업용 '\n",
      "                                   '자동차.KB다이렉트업무용KB다이렉트(인터넷)업무용KBAce업무용개인소유 '\n",
      "                                   '자가용승용차를 제외한 모든  비사업용 자동차 중 개인소유 '\n",
      "                                   '자동차KB뉴비즈니스자동차보험개인소유 자가용승용차를 제외한 모든  비사업용 '\n",
      "                                   '자동차 중 법인소유 자동차영업용君KB영업용자동차보험모든 영업용자동차 및'},\n",
      "              'score': 0.851909399,\n",
      "              'values': []},\n",
      "             {'id': '10',\n",
      "              'metadata': {'text': '시행되고 있으며 보유불명사고, 무보험차에 의한 사고시 대인배상Ⅰ과 동일한 '\n",
      "                                   '수준의 보상을 받을 수 있습니다.   ㅇ 음주운전, 무면허운전, '\n",
      "                                   '마약·약물운전을 하는 동안의 사고 또는 사고발생 시의 조치의무를 위반한 '\n",
      "                                   '경우로 인하여 보험회사가 보험금을 지급하게 되는 경우, 다음의 사고부담금을 '\n",
      "                                   '피보험자 본인이 부담하여야 합니다.     - 대인배상Ⅰ: 한도 내 '\n",
      "                                   '지급보험금     - 대인배상Ⅱ : 1사고당 1억원      - 대물배상 '\n",
      "                                   ':         ◦ 자동차손해배상 보장법｣ 제5조제2항의 규정에 따라 '\n",
      "                                   '자동차보유자가 의무적으로 가입해야 하는 ｢대물배상｣ 보험가입금액 이하 손해 '\n",
      "                                   ': 한도 내 지급보험금        ◦ ｢자동차손해배상보장법｣ 제5조 '\n",
      "                                   '제2항의 규정에 따라 자동차보유자가 의무적으로 가입하여야 하는 ｢대물배상｣ '\n",
      "                                   '보험가입금액 초과 손해 :           1사고당 '\n",
      "                                   '5,000만원                        ④ 의무보험 가입대상 '\n",
      "                                   '자동차   ㅇ 자동차관리법 제3조 규정에'},\n",
      "              'score': 0.846483171,\n",
      "              'values': []},\n",
      "             {'id': '38',\n",
      "              'metadata': {'text': '1) 특약의 요지       자동차 양도 이후, 양수인인 이전 등록하는 '\n",
      "                                   '기간인 15일 동안(무보험상태) 양도인의 추가보험료 부담 없이 자동 담보되는 '\n",
      "                                   '특약으로 동 기간 중 양수인이 사고를 야기한 경우 양도인이 가입한 의무보험 '\n",
      "                                   '일시담보특약에 의해 보상함. 단, 이 경우 양수인은 반드시 특약보험료를 '\n",
      "                                   '납입하여야 함.        2) 유의사항'},\n",
      "              'score': 0.844857574,\n",
      "              'values': []},\n",
      "             {'id': '12',\n",
      "              'metadata': {'text': '초과4,000원2,000원8,000원2,000원1,200원600원최고한도60만원30만원100만원30만원20만원10만원        '\n",
      "                                   '＊자배법 시행령 [별표 5]   ㅇ 미가입운행시 벌칙     - 1년 이하의 '\n",
      "                                   '징역 또는 1,000만원 이하의 벌금 □ 담보내용  ① 대인배상Ⅰ     '\n",
      "                                   '자동차를 소유, 사용, 관리하는 동안에 남을 죽게 하거나 다치게 하여 법률상 '\n",
      "                                   '손해배상책임을 짐으로써 입은 손해를 보상해 주는 보험으로 자배법에 의해 '\n",
      "                                   '의무적으로 가입해야 하는 보험입니다.  ② 대인배상Ⅱ   ㅇ 보상범위     '\n",
      "                                   '피보험자가 피보험자동차의 사고로 인하여 남을 죽게 하거나 다치게 하여 법률상 '\n",
      "                                   '손해배상책임을 짐으로써 입은 손해 중 대인배상Ⅰ의 보상한도를 초과하는 손해를 '\n",
      "                                   '보험가입금액 한도 내에서 보상합니다.      구   분            '\n",
      "                                   '내            용법률상 손해배상책임액  사망, 부상, '\n",
      "                                   '후유장애비     용 손해방지 및 경감비용, 권리보전과 행사비 용, '\n",
      "                                   '긴급조치비용, 기타'},\n",
      "              'score': 0.843261957,\n",
      "              'values': []},\n",
      "             {'id': '14',\n",
      "              'metadata': {'text': '구  분 내  용법률상 손해배상책임액 - 직접손해: 수리비용, 교환가액 - '\n",
      "                                   '간접손해: 대차료, 휴차료, 영업손실비용 손해방지 및 경감비용, 권리보전과 '\n",
      "                                   '행사용,  긴급조치비용, 기타 보험회사의 동의를 얻어 지출한 비용기타 '\n",
      "                                   '확정판결에 의한 지연배상금   ㅇ 보상한도 : 1사고당 1천만원/2천만원 '\n",
      "                                   '(2016.4.1일 이후 2천만원이상 '\n",
      "                                   '가입의무화)*대물배상가입금액확장특약으로가입금액을확장할수있음  ④ '\n",
      "                                   '자기신체사고   ㅇ 보상범위     피보험자가 피보험자동차를 '\n",
      "                                   '소유‧사용‧관리하는 동안에 생긴 자동차의 사고로 상해를 입었을 때 보험 '\n",
      "                                   '가입금액 한도내에서 사망, 부상, 후유장애보험금을 지급합니다.   ㅇ '\n",
      "                                   '보상한도\\n'\n",
      "                                   '        \\n'\n",
      "                                   '구 분 사망/부상/후유장애피보험자 1인당 보험가입금액'},\n",
      "              'score': 0.838358,\n",
      "              'values': []},\n",
      "             {'id': '33',\n",
      "              'metadata': {'text': '2) 특약의 종류        운전자연령 만 21세 이상 한정운전 '\n",
      "                                   '특별약관        운전자연령 만 22세 이상 한정운전 '\n",
      "                                   '특별약관         운전자연령 만 24세 이상 한정운전 '\n",
      "                                   '특별약관         운전자연령 만 26세 이상 한정운전 '\n",
      "                                   '특별약관        운전자연령 만 28세 이상 한정운전 '\n",
      "                                   '특별약관         운전자연령 만 30세 이상 한정운전 '\n",
      "                                   '특별약관         운전자연령 만 35세 이상 한정운전 '\n",
      "                                   '특별약관        운전자연령 만 43세 이상 한정운전 '\n",
      "                                   '특별약관        운전자연령 만 48세 이상 한정운전 '\n",
      "                                   '특별약관        (개인용 기준이며 업무용 및 영업용은 차종마다 가입이 '\n",
      "                                   '가능한 특약이 상이함)        3) 연령기준        주민등록상의 '\n",
      "                                   '생년월일을 기준으로 사고일 현재 연령(주민등록상의 만 연령을 말함)    '\n",
      "                                   '4) 유의사항    - 운전자 연령 한정운전 특약가입 입증책임        '\n",
      "                                   ': 운전자 연령 만 21세 이상 또는'},\n",
      "              'score': 0.836336076,\n",
      "              'values': []}],\n",
      " 'namespace': 'insurance-namespace',\n",
      " 'usage': {'read_units': 1}}\n"
     ]
    }
   ],
   "execution_count": 33
  },
  {
   "metadata": {},
   "cell_type": "markdown",
   "source": "# 최종 문서 필터링 - Reranking",
   "id": "d5c362b2bec86f6"
  },
  {
   "metadata": {
    "ExecuteTime": {
     "end_time": "2025-05-05T14:58:34.455483Z",
     "start_time": "2025-05-05T14:58:33.957656Z"
    }
   },
   "cell_type": "code",
   "source": [
    "result = pc.inference.rerank(\n",
    "    model=\"bge-reranker-v2-m3\",\n",
    "    query=query,\n",
    "    documents=[{\"id\": match[\"id\"], \"text\": match[\"metadata\"][\"text\"]} for match in results[\"matches\"]],\n",
    "    top_n=3,\n",
    "    return_documents=True,\n",
    "    parameters={\n",
    "        \"truncate\": \"END\"\n",
    "    }\n",
    ")\n",
    "\n",
    "print(result)"
   ],
   "id": "5ed555813c6e133b",
   "outputs": [
    {
     "name": "stdout",
     "output_type": "stream",
     "text": [
      "RerankResult(\n",
      "  model='bge-reranker-v2-m3',\n",
      "  data=[{\n",
      "    index=0,\n",
      "    score=0.9639839,\n",
      "    document={\n",
      "        id='11',\n",
      "        text='보험가입금액 초과 손해 :           1사고당 5,000만원                        ④ 의무보험 가입대상 자동차   ㅇ 자동차관리법 제3조 규정에 의하여 등록된 자동차   ㅇ 건설기계관리법 제3조 규정에 의하여 등록된 건설기계중 자배법시행령 제2조에 정한 건설기계＊＊덤프트럭,트럭적재식콘크리트펌프,타이어식기중기,트럭적재식아스팔트살포기,콘크리트믹서트럭,타이어식굴삭기,「건설기계관리법시행령」별표1제26호에따른특수건설기계중트럭지게차,도로보수트럭,노면측정장비(노면측정장치를가진자주식)  ⑤ 의무보험 미가입시 제재   ㅇ 미가입시 과태료 의무보험미가입기간자가용자동차사업용자동차이륜자동차대인Ⅰ대물대인Ⅰ대물대인Ⅰ대물10일이내10,000원5,000원30,000원5,000원6,000원3,000원매1일 초과4,000원2,000원8,000원2,000원1,200원600원최고한도60만원30만원100만원30만원20만원10만원        ＊자배법 시행령 [별표 5]   ㅇ 미가입운행시'\n",
      "    }\n",
      "  },{\n",
      "    index=2,\n",
      "    score=0.71012604,\n",
      "    document={\n",
      "        id='7',\n",
      "        text='비사업용 자동차 중 개인소유 자동차KB뉴비즈니스자동차보험개인소유 자가용승용차를 제외한 모든  비사업용 자동차 중 법인소유 자동차영업용君KB영업용자동차보험모든 영업용자동차 및 건설기계KB다이렉트영업용자동차보험KB다이렉트(인터넷)영업용자동차보험이륜차君KB이륜자동차보험이륜자동차 및 원동기장치자전거KB다이렉트이륜자동차보험KB다이렉트(인터넷)이륜자동차보험기타KB운전자보험, KB자동차취급업자종합보험 등 □ 자동차보험 공동인수 제도  ① 대상 : 사고가 발생할 위험이 높거나 또는 기존 가입기간 동안 사고를 여러번 야기하여 보험 회사가 인수를 거절한 계약을 대상으로 합니다.  ② 취지 : 인수거절된 가입자에게 종합보험 가입의 길을 열어줌으로써 무보험자동차 양산을 방지하고 피해자 및 보험가입자 보호를 위한 제도입니다.나. 보험금 지급사유, 지급금액 및 지급제한 사항 □ 의무보험 관련사항  ① 정의    의무보험이란 자동차손해배상보장법(이하 자배법)에 의거 자동차보유자가 의무적으로 가입해야 하는'\n",
      "    }\n",
      "  },{\n",
      "    index=3,\n",
      "    score=0.6873153,\n",
      "    document={\n",
      "        id='37',\n",
      "        text='대체하는 때에는 대체차량에 보험계약이 승계됨.          2) 가입대상        업무용자동차보험에 가입하는 모든 관용자동차    3) 적용요율    자가용 해당 차종의 담보종목별 기본보험료의 50% 적용 (대인배상Ⅰ도 포함)▣ 기명피보험자 1인 한정운전 특별약관 (영업용)    1) 특약의 요지       피보험자동차를 기명피보험자(개인택시의 경우  관계법령에 따라 신고한 대리운전자 포함) 이외의 자가 운전하던 중 사고로 인한 손해는 보상하지 아니함.    2) 가입대상       기명피보험자만이 운전하는 개인택시 및 개별면허화물자동차    3) 유의사항     이 특약에 가입한 계약은 자동차의 양도시 보험계약을 양도할 수 없음에 특히 유의하여야 함.▣ 의무보험 일시담보 특약 (개인용·업무용·영업용)    1) 특약의 요지       자동차 양도 이후, 양수인인 이전 등록하는 기간인 15일 동안(무보험상태) 양도인의 추가보험료 부담 없이 자동 담보되는 특약으로 동 기간 중'\n",
      "    }\n",
      "  }],\n",
      "  usage={'rerank_units': 1}\n",
      ")\n"
     ]
    }
   ],
   "execution_count": 34
  },
  {
   "metadata": {},
   "cell_type": "markdown",
   "source": "---",
   "id": "d29fc19325e10891"
  },
  {
   "metadata": {},
   "cell_type": "markdown",
   "source": "",
   "id": "898237a7b5a4b022"
  },
  {
   "metadata": {},
   "cell_type": "code",
   "outputs": [],
   "execution_count": null,
   "source": "",
   "id": "7fc67bee414df8ab"
  }
 ],
 "metadata": {
  "kernelspec": {
   "display_name": "yuncheol-llmops-demo",
   "language": "python",
   "name": "llmops-3.10.14"
  },
  "language_info": {
   "codemirror_mode": {
    "name": "ipython",
    "version": 3
   },
   "file_extension": ".py",
   "mimetype": "text/x-python",
   "name": "python",
   "nbconvert_exporter": "python",
   "pygments_lexer": "ipython3",
   "version": "3.10.14"
  }
 },
 "nbformat": 4,
 "nbformat_minor": 5
}
