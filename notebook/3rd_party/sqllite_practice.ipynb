{
 "cells": [
  {
   "cell_type": "code",
   "id": "eb3bf3ce-4572-42b1-9493-e5bf85407083",
   "metadata": {
    "ExecuteTime": {
     "end_time": "2025-04-26T16:06:36.985141Z",
     "start_time": "2025-04-26T16:06:36.980514Z"
    }
   },
   "source": [
    "import sqlite3\n",
    "\n",
    "conn = sqlite3.connect(\"test.db\")\n",
    "cursor = conn.cursor()"
   ],
   "outputs": [],
   "execution_count": 6
  },
  {
   "metadata": {
    "ExecuteTime": {
     "end_time": "2025-04-26T16:06:09.599212Z",
     "start_time": "2025-04-26T16:06:09.590086Z"
    }
   },
   "cell_type": "code",
   "source": [
    "cursor.execute('''\n",
    "CREATE TABLE IF NOT EXISTS logs (\n",
    "    id INTEGER PRIMARY KEY AUTOINCREMENT,\n",
    "    timestamp DATETIME DEFAULT CURRENT_TIMESTAMP,\n",
    "    user_input TEXT,\n",
    "    model_output TEXT\n",
    ")\n",
    "''')\n",
    "conn.commit()"
   ],
   "id": "f057fd3abbee45ec",
   "outputs": [],
   "execution_count": 2
  },
  {
   "metadata": {
    "ExecuteTime": {
     "end_time": "2025-04-26T16:06:21.084027Z",
     "start_time": "2025-04-26T16:06:21.078720Z"
    }
   },
   "cell_type": "code",
   "source": [
    "cursor.execute('''\n",
    "INSERT INTO logs (user_input, model_output)\n",
    "VALUES (?, ?)\n",
    "''', (\"Example input\", \"Example output\"))\n",
    "conn.commit()"
   ],
   "id": "75fffc6e0b3e3d8e",
   "outputs": [],
   "execution_count": 3
  },
  {
   "metadata": {
    "ExecuteTime": {
     "end_time": "2025-04-26T16:06:40.616109Z",
     "start_time": "2025-04-26T16:06:40.612159Z"
    }
   },
   "cell_type": "code",
   "source": [
    "cursor.execute('SELECT * FROM logs')\n",
    "rows = cursor.fetchall()\n",
    "print(rows)"
   ],
   "id": "27068bdbaf98843c",
   "outputs": [
    {
     "name": "stdout",
     "output_type": "stream",
     "text": [
      "[(1, '2025-04-26 16:06:21', 'Example input', 'Example output')]\n"
     ]
    }
   ],
   "execution_count": 7
  },
  {
   "metadata": {
    "ExecuteTime": {
     "end_time": "2025-04-26T16:06:43.081413Z",
     "start_time": "2025-04-26T16:06:43.078824Z"
    }
   },
   "cell_type": "code",
   "source": "conn.close()",
   "id": "1ce9b633eb9b428d",
   "outputs": [],
   "execution_count": 8
  },
  {
   "metadata": {},
   "cell_type": "code",
   "outputs": [],
   "execution_count": null,
   "source": "",
   "id": "72c54582aef1773e"
  }
 ],
 "metadata": {
  "kernelspec": {
   "display_name": "Python 3 (ipykernel)",
   "name": "python3",
   "language": "python"
  },
  "language_info": {
   "name": ""
  }
 },
 "nbformat": 4,
 "nbformat_minor": 5
}
