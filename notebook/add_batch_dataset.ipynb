{
 "cells": [
  {
   "metadata": {
    "ExecuteTime": {
     "end_time": "2025-04-27T13:46:51.407236Z",
     "start_time": "2025-04-27T13:46:51.381844Z"
    }
   },
   "cell_type": "code",
   "source": [
    "from libs.dataset import DatasetStorage\n",
    "import pandas as pd\n",
    "\n",
    "# CSV 파일 읽기\n",
    "df = pd.read_csv(\"~/PycharmProjects/yuncheol-llmops-demo/dataset/customer_inquiries.csv\")\n",
    "\n",
    "# 각 컬럼을 배열로 변환\n",
    "text_list = df[\"문의\"].to_list()\n",
    "category_list = df[\"카테고리\"].to_list()\n",
    "\n",
    "# 데이터셋 내용 출력\n",
    "print(df.head())\n",
    "print(text_list[:1])\n",
    "print(category_list[:1])\n",
    "\n",
    "# 데이터 저장소 연결\n",
    "ds = DatasetStorage()\n",
    "# 고객 문의 분류 데이터셋 가져오기\n",
    "dataset = ds.get_dataset(\"cs_classification_20250427_v1\")\n",
    "\n",
    "# 데이터 엔트리 추가\n",
    "for text, reference_output in zip(text_list, category_list):\n",
    "    dataset.add_entry(\n",
    "        input_variables={\"text\": text},\n",
    "        reference_output=reference_output\n",
    "    )"
   ],
   "id": "5af24d9e69c9e023",
   "outputs": [
    {
     "name": "stdout",
     "output_type": "stream",
     "text": [
      "    카테고리                       문의\n",
      "0  환불 요청  상품이 마음에 들지 않아 환불하고 싶어요.\n",
      "1  환불 요청   주문을 취소하고 전액 환불 부탁드립니다.\n",
      "2  환불 요청  환불 진행이 아직 안 됐는데 언제 되나요?\n",
      "3  기술 지원         앱에서 로그인할 수가 없어요.\n",
      "4  기술 지원         결제 버튼이 눌리지 않습니다.\n",
      "['상품이 마음에 들지 않아 환불하고 싶어요.']\n",
      "['환불 요청']\n"
     ]
    }
   ],
   "execution_count": 4
  },
  {
   "metadata": {},
   "cell_type": "code",
   "outputs": [],
   "execution_count": null,
   "source": "",
   "id": "a3361c754edad979"
  }
 ],
 "metadata": {
  "kernelspec": {
   "display_name": "yuncheol-llmops-demo",
   "language": "python",
   "name": "llmops-3.10.14"
  },
  "language_info": {
   "codemirror_mode": {
    "name": "ipython",
    "version": 3
   },
   "file_extension": ".py",
   "mimetype": "text/x-python",
   "name": "python",
   "nbconvert_exporter": "python",
   "pygments_lexer": "ipython3",
   "version": "3.10.14"
  }
 },
 "nbformat": 4,
 "nbformat_minor": 5
}
